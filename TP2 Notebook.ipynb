{
 "cells": [
  {
   "cell_type": "code",
   "execution_count": 73,
   "id": "abc64e2f-580d-436e-aa13-0ec878fa9395",
   "metadata": {
    "tags": []
   },
   "outputs": [],
   "source": [
    "%matplotlib inline\n",
    "\n",
    "from pathlib import Path\n",
    "\n",
    "import numpy as np\n",
    "import pandas as pd\n",
    "\n",
    "import matplotlib.pyplot as plt\n",
    "import seaborn as sns"
   ]
  },
  {
   "cell_type": "code",
   "execution_count": 74,
   "id": "272f981e-d2d0-424a-9e2d-c0289f0644d6",
   "metadata": {
    "tags": []
   },
   "outputs": [],
   "source": [
    "train_values = pd.read_csv('data/train_values.csv', index_col='building_id')\n",
    "train_labels = pd.read_csv('data/train_labels.csv', index_col='building_id')\n",
    "test_values = pd.read_csv('data/test_values.csv', index_col='building_id')\n",
    "submission_format  = pd.read_csv('data/submission_format.csv', index_col='building_id')"
   ]
  },
  {
   "cell_type": "code",
   "execution_count": 75,
   "id": "ecd72e70-b0e4-4c17-aeb5-088dfb411043",
   "metadata": {
    "tags": []
   },
   "outputs": [],
   "source": [
    "selected_features = ['foundation_type', \n",
    "                     'area_percentage', \n",
    "                     'height_percentage',\n",
    "                     'count_floors_pre_eq',\n",
    "                     'land_surface_condition',\n",
    "                     'has_superstructure_cement_mortar_stone']\n",
    "\n",
    "train_values_subset = train_values[selected_features]"
   ]
  },
  {
   "cell_type": "code",
   "execution_count": 76,
   "id": "eea8a9c2-82e9-47b6-92b9-8d6bb828cc40",
   "metadata": {},
   "outputs": [],
   "source": [
    "train_values_subset = pd.get_dummies(train_values_subset)"
   ]
  },
  {
   "cell_type": "code",
   "execution_count": 77,
   "id": "d0ce1f8d-1ce0-468b-9250-2c36eb929e50",
   "metadata": {},
   "outputs": [
    {
     "data": {
      "text/html": [
       "<div>\n",
       "<style scoped>\n",
       "    .dataframe tbody tr th:only-of-type {\n",
       "        vertical-align: middle;\n",
       "    }\n",
       "\n",
       "    .dataframe tbody tr th {\n",
       "        vertical-align: top;\n",
       "    }\n",
       "\n",
       "    .dataframe thead th {\n",
       "        text-align: right;\n",
       "    }\n",
       "</style>\n",
       "<table border=\"1\" class=\"dataframe\">\n",
       "  <thead>\n",
       "    <tr style=\"text-align: right;\">\n",
       "      <th></th>\n",
       "      <th>area_percentage</th>\n",
       "      <th>height_percentage</th>\n",
       "      <th>count_floors_pre_eq</th>\n",
       "      <th>has_superstructure_cement_mortar_stone</th>\n",
       "      <th>foundation_type_h</th>\n",
       "      <th>foundation_type_i</th>\n",
       "      <th>foundation_type_r</th>\n",
       "      <th>foundation_type_u</th>\n",
       "      <th>foundation_type_w</th>\n",
       "      <th>land_surface_condition_n</th>\n",
       "      <th>land_surface_condition_o</th>\n",
       "      <th>land_surface_condition_t</th>\n",
       "    </tr>\n",
       "    <tr>\n",
       "      <th>building_id</th>\n",
       "      <th></th>\n",
       "      <th></th>\n",
       "      <th></th>\n",
       "      <th></th>\n",
       "      <th></th>\n",
       "      <th></th>\n",
       "      <th></th>\n",
       "      <th></th>\n",
       "      <th></th>\n",
       "      <th></th>\n",
       "      <th></th>\n",
       "      <th></th>\n",
       "    </tr>\n",
       "  </thead>\n",
       "  <tbody>\n",
       "    <tr>\n",
       "      <th>802906</th>\n",
       "      <td>6</td>\n",
       "      <td>5</td>\n",
       "      <td>2</td>\n",
       "      <td>0</td>\n",
       "      <td>0</td>\n",
       "      <td>0</td>\n",
       "      <td>1</td>\n",
       "      <td>0</td>\n",
       "      <td>0</td>\n",
       "      <td>0</td>\n",
       "      <td>0</td>\n",
       "      <td>1</td>\n",
       "    </tr>\n",
       "    <tr>\n",
       "      <th>28830</th>\n",
       "      <td>8</td>\n",
       "      <td>7</td>\n",
       "      <td>2</td>\n",
       "      <td>0</td>\n",
       "      <td>0</td>\n",
       "      <td>0</td>\n",
       "      <td>1</td>\n",
       "      <td>0</td>\n",
       "      <td>0</td>\n",
       "      <td>0</td>\n",
       "      <td>1</td>\n",
       "      <td>0</td>\n",
       "    </tr>\n",
       "    <tr>\n",
       "      <th>94947</th>\n",
       "      <td>5</td>\n",
       "      <td>5</td>\n",
       "      <td>2</td>\n",
       "      <td>0</td>\n",
       "      <td>0</td>\n",
       "      <td>0</td>\n",
       "      <td>1</td>\n",
       "      <td>0</td>\n",
       "      <td>0</td>\n",
       "      <td>0</td>\n",
       "      <td>0</td>\n",
       "      <td>1</td>\n",
       "    </tr>\n",
       "    <tr>\n",
       "      <th>590882</th>\n",
       "      <td>6</td>\n",
       "      <td>5</td>\n",
       "      <td>2</td>\n",
       "      <td>0</td>\n",
       "      <td>0</td>\n",
       "      <td>0</td>\n",
       "      <td>1</td>\n",
       "      <td>0</td>\n",
       "      <td>0</td>\n",
       "      <td>0</td>\n",
       "      <td>0</td>\n",
       "      <td>1</td>\n",
       "    </tr>\n",
       "    <tr>\n",
       "      <th>201944</th>\n",
       "      <td>8</td>\n",
       "      <td>9</td>\n",
       "      <td>3</td>\n",
       "      <td>0</td>\n",
       "      <td>0</td>\n",
       "      <td>0</td>\n",
       "      <td>1</td>\n",
       "      <td>0</td>\n",
       "      <td>0</td>\n",
       "      <td>0</td>\n",
       "      <td>0</td>\n",
       "      <td>1</td>\n",
       "    </tr>\n",
       "  </tbody>\n",
       "</table>\n",
       "</div>"
      ],
      "text/plain": [
       "             area_percentage  height_percentage  count_floors_pre_eq  \\\n",
       "building_id                                                            \n",
       "802906                     6                  5                    2   \n",
       "28830                      8                  7                    2   \n",
       "94947                      5                  5                    2   \n",
       "590882                     6                  5                    2   \n",
       "201944                     8                  9                    3   \n",
       "\n",
       "             has_superstructure_cement_mortar_stone  foundation_type_h  \\\n",
       "building_id                                                              \n",
       "802906                                            0                  0   \n",
       "28830                                             0                  0   \n",
       "94947                                             0                  0   \n",
       "590882                                            0                  0   \n",
       "201944                                            0                  0   \n",
       "\n",
       "             foundation_type_i  foundation_type_r  foundation_type_u  \\\n",
       "building_id                                                            \n",
       "802906                       0                  1                  0   \n",
       "28830                        0                  1                  0   \n",
       "94947                        0                  1                  0   \n",
       "590882                       0                  1                  0   \n",
       "201944                       0                  1                  0   \n",
       "\n",
       "             foundation_type_w  land_surface_condition_n  \\\n",
       "building_id                                                \n",
       "802906                       0                         0   \n",
       "28830                        0                         0   \n",
       "94947                        0                         0   \n",
       "590882                       0                         0   \n",
       "201944                       0                         0   \n",
       "\n",
       "             land_surface_condition_o  land_surface_condition_t  \n",
       "building_id                                                      \n",
       "802906                              0                         1  \n",
       "28830                               1                         0  \n",
       "94947                               0                         1  \n",
       "590882                              0                         1  \n",
       "201944                              0                         1  "
      ]
     },
     "execution_count": 77,
     "metadata": {},
     "output_type": "execute_result"
    }
   ],
   "source": [
    "train_values_subset.head()"
   ]
  },
  {
   "cell_type": "code",
   "execution_count": 78,
   "id": "f17d9023-4ec1-402b-a0de-01e921ae00ad",
   "metadata": {},
   "outputs": [],
   "source": [
    "# for preprocessing the data\n",
    "from sklearn.preprocessing import StandardScaler\n",
    "\n",
    "# the model\n",
    "from sklearn.ensemble import RandomForestClassifier\n",
    "\n",
    "# for combining the preprocess with model training\n",
    "from sklearn.pipeline import make_pipeline\n",
    "\n",
    "# for optimizing the hyperparameters of the pipeline\n",
    "from sklearn.model_selection import GridSearchCV"
   ]
  },
  {
   "cell_type": "code",
   "execution_count": 79,
   "id": "4669b832-b9e0-4ae1-88d1-95700f0cb341",
   "metadata": {},
   "outputs": [
    {
     "data": {
      "text/plain": [
       "Pipeline(steps=[('standardscaler', StandardScaler()),\n",
       "                ('randomforestclassifier',\n",
       "                 RandomForestClassifier(random_state=2018))])"
      ]
     },
     "execution_count": 79,
     "metadata": {},
     "output_type": "execute_result"
    }
   ],
   "source": [
    "pipe = make_pipeline(StandardScaler(), \n",
    "                     RandomForestClassifier(random_state=2018))\n",
    "pipe"
   ]
  },
  {
   "cell_type": "code",
   "execution_count": 80,
   "id": "4df99c10-3ca7-4062-9c53-3c540f3b3c70",
   "metadata": {},
   "outputs": [],
   "source": [
    "param_grid = {'randomforestclassifier__n_estimators': [50, 100],\n",
    "              'randomforestclassifier__min_samples_leaf': [1, 5]}\n",
    "#gs = GridSearchCV(pipe, param_grid, cv=5)"
   ]
  },
  {
   "cell_type": "code",
   "execution_count": 81,
   "id": "6ae67bc5-164e-45b1-a59d-2c5330ac7935",
   "metadata": {},
   "outputs": [],
   "source": [
    "#gs.fit(train_values_subset, train_labels.values.ravel())"
   ]
  },
  {
   "cell_type": "code",
   "execution_count": 82,
   "id": "20787086-157a-4a89-a3f2-8f518b11e4ea",
   "metadata": {},
   "outputs": [],
   "source": [
    "#gs.best_params_"
   ]
  },
  {
   "cell_type": "code",
   "execution_count": 83,
   "id": "cac8d48a-22ef-466b-bf8a-c47521d48ab0",
   "metadata": {},
   "outputs": [],
   "source": [
    "#from sklearn.metrics import f1_score\n",
    "\n",
    "#in_sample_preds = gs.predict(train_values_subset)\n",
    "#f1_score(train_labels, in_sample_preds, average='micro')"
   ]
  },
  {
   "cell_type": "code",
   "execution_count": 84,
   "id": "dcf4a684-a8e5-4d6e-8a23-54af385032ab",
   "metadata": {},
   "outputs": [],
   "source": [
    "#len(in_sample_preds)"
   ]
  },
  {
   "cell_type": "code",
   "execution_count": 85,
   "id": "76390323-bea6-468e-ba49-a8229055212b",
   "metadata": {},
   "outputs": [],
   "source": [
    "#in_sample_preds"
   ]
  },
  {
   "cell_type": "code",
   "execution_count": 86,
   "id": "abf4f4b8-ed2a-40fe-9827-92cc8150c477",
   "metadata": {},
   "outputs": [],
   "source": [
    "# TEST SET\n",
    "test_values_subset = test_values[selected_features]\n",
    "test_values_subset = pd.get_dummies(test_values_subset)"
   ]
  },
  {
   "cell_type": "code",
   "execution_count": 87,
   "id": "43511ab3-0012-4756-89de-018f19a52016",
   "metadata": {},
   "outputs": [],
   "source": [
    "#predictions = gs.predict(test_values_subset)"
   ]
  },
  {
   "cell_type": "code",
   "execution_count": 88,
   "id": "d5b9c52f-2887-439e-94e4-882826cc1c17",
   "metadata": {},
   "outputs": [],
   "source": [
    "#my_submission = pd.DataFrame(data=predictions,\n",
    "#                             columns=submission_format.columns,\n",
    "#                             index=submission_format.index)"
   ]
  },
  {
   "cell_type": "code",
   "execution_count": 89,
   "id": "2d9cad5e-2915-4f6b-b0ef-ce49e12a12d3",
   "metadata": {},
   "outputs": [],
   "source": [
    "#my_submission.head()"
   ]
  },
  {
   "cell_type": "code",
   "execution_count": 90,
   "id": "49b5d602-e4d4-49a3-8d6a-1849e37fceb4",
   "metadata": {},
   "outputs": [],
   "source": [
    "#my_submission.to_csv('submission.csv')"
   ]
  },
  {
   "cell_type": "code",
   "execution_count": 91,
   "id": "b006f8da-4b8d-4f44-b0ab-ee28ace7bec9",
   "metadata": {},
   "outputs": [
    {
     "name": "stdout",
     "output_type": "stream",
     "text": [
      "<class 'pandas.core.frame.DataFrame'>\n",
      "Int64Index: 260601 entries, 802906 to 747594\n",
      "Data columns (total 38 columns):\n",
      " #   Column                                  Non-Null Count   Dtype \n",
      "---  ------                                  --------------   ----- \n",
      " 0   geo_level_1_id                          260601 non-null  int64 \n",
      " 1   geo_level_2_id                          260601 non-null  int64 \n",
      " 2   geo_level_3_id                          260601 non-null  int64 \n",
      " 3   count_floors_pre_eq                     260601 non-null  int64 \n",
      " 4   age                                     260601 non-null  int64 \n",
      " 5   area_percentage                         260601 non-null  int64 \n",
      " 6   height_percentage                       260601 non-null  int64 \n",
      " 7   land_surface_condition                  260601 non-null  object\n",
      " 8   foundation_type                         260601 non-null  object\n",
      " 9   roof_type                               260601 non-null  object\n",
      " 10  ground_floor_type                       260601 non-null  object\n",
      " 11  other_floor_type                        260601 non-null  object\n",
      " 12  position                                260601 non-null  object\n",
      " 13  plan_configuration                      260601 non-null  object\n",
      " 14  has_superstructure_adobe_mud            260601 non-null  int64 \n",
      " 15  has_superstructure_mud_mortar_stone     260601 non-null  int64 \n",
      " 16  has_superstructure_stone_flag           260601 non-null  int64 \n",
      " 17  has_superstructure_cement_mortar_stone  260601 non-null  int64 \n",
      " 18  has_superstructure_mud_mortar_brick     260601 non-null  int64 \n",
      " 19  has_superstructure_cement_mortar_brick  260601 non-null  int64 \n",
      " 20  has_superstructure_timber               260601 non-null  int64 \n",
      " 21  has_superstructure_bamboo               260601 non-null  int64 \n",
      " 22  has_superstructure_rc_non_engineered    260601 non-null  int64 \n",
      " 23  has_superstructure_rc_engineered        260601 non-null  int64 \n",
      " 24  has_superstructure_other                260601 non-null  int64 \n",
      " 25  legal_ownership_status                  260601 non-null  object\n",
      " 26  count_families                          260601 non-null  int64 \n",
      " 27  has_secondary_use                       260601 non-null  int64 \n",
      " 28  has_secondary_use_agriculture           260601 non-null  int64 \n",
      " 29  has_secondary_use_hotel                 260601 non-null  int64 \n",
      " 30  has_secondary_use_rental                260601 non-null  int64 \n",
      " 31  has_secondary_use_institution           260601 non-null  int64 \n",
      " 32  has_secondary_use_school                260601 non-null  int64 \n",
      " 33  has_secondary_use_industry              260601 non-null  int64 \n",
      " 34  has_secondary_use_health_post           260601 non-null  int64 \n",
      " 35  has_secondary_use_gov_office            260601 non-null  int64 \n",
      " 36  has_secondary_use_use_police            260601 non-null  int64 \n",
      " 37  has_secondary_use_other                 260601 non-null  int64 \n",
      "dtypes: int64(30), object(8)\n",
      "memory usage: 77.5+ MB\n"
     ]
    }
   ],
   "source": [
    "train_values.info()"
   ]
  },
  {
   "cell_type": "code",
   "execution_count": 119,
   "id": "77d1221b-0524-4cc9-82dc-f1ca759ba49a",
   "metadata": {},
   "outputs": [
    {
     "name": "stdout",
     "output_type": "stream",
     "text": [
      "[18:46:42] WARNING: C:/Users/Administrator/workspace/xgboost-win64_release_1.4.0/src/learner.cc:1095: Starting in XGBoost 1.3.0, the default evaluation metric used with the objective 'multi:softprob' was changed from 'merror' to 'mlogloss'. Explicitly set eval_metric if you'd like to restore the old behavior.\n"
     ]
    },
    {
     "data": {
      "text/plain": [
       "XGBClassifier(base_score=0.5, booster='gbtree', colsample_bylevel=1,\n",
       "              colsample_bynode=1, colsample_bytree=1, gamma=0, gpu_id=-1,\n",
       "              importance_type='gain', interaction_constraints='',\n",
       "              learning_rate=0.300000012, max_delta_step=0, max_depth=6,\n",
       "              min_child_weight=1, missing=nan, monotone_constraints='()',\n",
       "              n_estimators=100, n_jobs=4, num_class=3, num_parallel_tree=1,\n",
       "              objective='multi:softprob', random_state=0, reg_alpha=0,\n",
       "              reg_lambda=1, scale_pos_weight=None, subsample=1,\n",
       "              tree_method='exact', use_label_encoder=False,\n",
       "              validate_parameters=1, verbosity=None)"
      ]
     },
     "execution_count": 119,
     "metadata": {},
     "output_type": "execute_result"
    }
   ],
   "source": [
    "features = ['count_floors_pre_eq',\n",
    "            'area_percentage',\n",
    "            'height_percentage',\n",
    "            'age',\n",
    "            'foundation_type', \n",
    "            'ground_floor_type', \n",
    "            'other_floor_type',\n",
    "            'roof_type',\n",
    "            'has_superstructure_mud_mortar_stone',\n",
    "            'has_superstructure_cement_mortar_stone']\n",
    "\n",
    "train_values_subset = train_values #[features]\n",
    "\n",
    "#CODIFICACION/MANIPULACION DE LA DATA\n",
    "train_values_subset = pd.get_dummies(train_values_subset)\n",
    "\n",
    "import xgboost as xgb\n",
    "\n",
    "xg_reg = xgb.XGBClassifier(objective='multi:softprob',use_label_encoder=False,num_class=3)\n",
    "\n",
    "data = train_values_subset\n",
    "\n",
    "data[\"damage_grade\"] = train_labels[\"damage_grade\"] - 1\n",
    "\n",
    "X, y = data.iloc[:,:-1],data.iloc[:,-1]\n",
    "\n",
    "from sklearn.model_selection import train_test_split\n",
    "\n",
    "X_train, X_test, y_train, y_test = \\\n",
    "    train_test_split(X, y, test_size=0.2, random_state=123)\n",
    "\n",
    "#X_train\n",
    "#y_train\n",
    "xg_reg.fit(X_train,y_train)"
   ]
  },
  {
   "cell_type": "code",
   "execution_count": 64,
   "id": "0bd343ce-0641-443b-bcb9-87dfa9999cde",
   "metadata": {},
   "outputs": [],
   "source": [
    "#result = xg_reg.predict(X_train)\n",
    "\n",
    "#np.set_printoptions(threshold=np.inf)\n",
    "\n",
    "#from sklearn.preprocessing import OneHotEncoder\n",
    "\n",
    "#result\n",
    "\n",
    "\n",
    "#np.set_printoptions(threshold=1000)"
   ]
  },
  {
   "cell_type": "code",
   "execution_count": 112,
   "id": "e6beea37-13fc-484d-8112-2d1982153320",
   "metadata": {},
   "outputs": [
    {
     "data": {
      "text/plain": [
       "0.7249477178104795"
      ]
     },
     "execution_count": 112,
     "metadata": {},
     "output_type": "execute_result"
    }
   ],
   "source": [
    "from sklearn.metrics import f1_score\n",
    "\n",
    "in_sample_preds = xg_reg.predict(X_test)\n",
    "\n",
    "f1_score(y_test.to_frame(), in_sample_preds, average='micro')"
   ]
  },
  {
   "cell_type": "code",
   "execution_count": 120,
   "id": "4f9fcd1b-e77a-47ff-8ade-1df7bfef4bf7",
   "metadata": {},
   "outputs": [],
   "source": [
    "# TEST SET\n",
    "features = ['count_floors_pre_eq',\n",
    "            'area_percentage',\n",
    "            'height_percentage',\n",
    "            'age',\n",
    "            'foundation_type', \n",
    "            'ground_floor_type', \n",
    "            'other_floor_type',\n",
    "            'roof_type',\n",
    "            'has_superstructure_mud_mortar_stone',\n",
    "            'has_superstructure_cement_mortar_stone']\n",
    "\n",
    "test_values_subset = test_values #[features]\n",
    "test_values_subset = pd.get_dummies(test_values_subset)"
   ]
  },
  {
   "cell_type": "code",
   "execution_count": 123,
   "id": "91b9efce-9049-4436-856e-de74b4d31ed5",
   "metadata": {},
   "outputs": [],
   "source": [
    "predictions = xg_reg.predict(test_values_subset)\n",
    "predictions=predictions+1"
   ]
  },
  {
   "cell_type": "code",
   "execution_count": 124,
   "id": "2ec79c85",
   "metadata": {},
   "outputs": [],
   "source": [
    "my_submission = pd.DataFrame(data=predictions,\n",
    "                             columns=submission_format.columns,\n",
    "                             index=submission_format.index)\n",
    "my_submission.to_csv('submission.csv')"
   ]
  },
  {
   "cell_type": "code",
   "execution_count": 103,
   "id": "24668eb9-cd64-4efd-99f6-8bbe4faf0eb5",
   "metadata": {},
   "outputs": [],
   "source": [
    "# Selección de las variables por típo\n",
    "# ==============================================================================\n",
    "from sklearn.pipeline import Pipeline\n",
    "from sklearn.compose import ColumnTransformer\n",
    "from sklearn.impute import SimpleImputer\n",
    "from sklearn.preprocessing import OneHotEncoder\n",
    "from sklearn.preprocessing import StandardScaler\n",
    "from sklearn.compose import make_column_selector\n",
    "\n",
    "numeric_cols = X_train.select_dtypes(include=['float64', 'int']).columns.to_list()\n",
    "cat_cols = X_train.select_dtypes(include=['object', 'category']).columns.to_list()\n",
    "\n",
    "# Transformaciones para las variables numéricas\n",
    "numeric_transformer = Pipeline(\n",
    "                        steps=[\n",
    "                            ('imputer', SimpleImputer(strategy='median')),\n",
    "                            ('scaler', StandardScaler())\n",
    "                        ]\n",
    "                      )\n",
    "\n",
    "\n",
    "# Transformaciones para las variables categóricas\n",
    "categorical_transformer = Pipeline(\n",
    "                            steps=[\n",
    "                                ('imputer', SimpleImputer(strategy='most_frequent')),\n",
    "                                ('onehot', OneHotEncoder(handle_unknown='ignore'))\n",
    "                            ]\n",
    "                          )\n",
    "\n",
    "preprocessor = ColumnTransformer(\n",
    "                    transformers=[\n",
    "                        ('numeric', numeric_transformer, numeric_cols),\n",
    "                        ('cat', categorical_transformer, cat_cols)\n",
    "                    ],\n",
    "                    remainder='passthrough'\n",
    "                )"
   ]
  },
  {
   "cell_type": "code",
   "execution_count": null,
   "id": "5aa31dbb",
   "metadata": {},
   "outputs": [],
   "source": []
  },
  {
   "cell_type": "code",
   "execution_count": null,
   "id": "0189cf6e",
   "metadata": {},
   "outputs": [],
   "source": [
    "X_train_prep = preprocessor.fit_transform(X_train)\n",
    "#X_test_prep  = preprocessor.transform(X_test)\n",
    "# Convertir el output en dataframe y añadir el nombre de las columnas\n",
    "# ==============================================================================\n",
    "\n",
    "encoded_cat = preprocessor.named_transformers_['cat']['onehot']\\\n",
    "              .get_feature_names(cat_cols)\n",
    "labels = np.concatenate([numeric_cols, encoded_cat])\n",
    "datos_train_prep = preprocessor.transform(X_train)\n",
    "datos_train_prep = pd.DataFrame(datos_train_prep, columns=labels)\n",
    "datos_train_prep.info()"
   ]
  },
  {
   "cell_type": "code",
   "execution_count": null,
   "id": "fab78e79",
   "metadata": {},
   "outputs": [],
   "source": []
  }
 ],
 "metadata": {
  "kernelspec": {
   "display_name": "Python 3",
   "language": "python",
   "name": "python3"
  },
  "language_info": {
   "codemirror_mode": {
    "name": "ipython",
    "version": 3
   },
   "file_extension": ".py",
   "mimetype": "text/x-python",
   "name": "python",
   "nbconvert_exporter": "python",
   "pygments_lexer": "ipython3",
   "version": "3.9.5"
  }
 },
 "nbformat": 4,
 "nbformat_minor": 5
}
